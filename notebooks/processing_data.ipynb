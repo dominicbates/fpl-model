{
 "cells": [
  {
   "cell_type": "markdown",
   "id": "d57f7e11",
   "metadata": {},
   "source": [
    "### Import some stuff"
   ]
  },
  {
   "cell_type": "code",
   "execution_count": 1,
   "id": "b990a2ad",
   "metadata": {},
   "outputs": [],
   "source": [
    "import numpy as np\n",
    "import pandas as pd\n",
    "import matplotlib.pyplot as plt"
   ]
  },
  {
   "cell_type": "markdown",
   "id": "26d6ed6c",
   "metadata": {},
   "source": [
    "### Load some fpl data"
   ]
  },
  {
   "cell_type": "code",
   "execution_count": 2,
   "id": "2a95710f",
   "metadata": {},
   "outputs": [],
   "source": [
    "def process_name(name):\n",
    "    if len(name.split('_')) > 1:\n",
    "        out = ' '.join(name.split('_')[0:-1])\n",
    "    else:\n",
    "        out = name\n",
    "    return out"
   ]
  },
  {
   "cell_type": "code",
   "execution_count": 3,
   "id": "43c78918",
   "metadata": {},
   "outputs": [],
   "source": [
    "def get_team_names_dict(year, fpl_dir, encoding):\n",
    "    # Get team names (in seperate file for last years)\n",
    "    if year in ['2022-23', '2021-2022']:\n",
    "        df_teams_tmp = pd.read_csv(fpl_dir+'data/'+year+'/teams.csv', encoding=encoding)\n",
    "        df_teams_tmp['team'] = df_teams_tmp['id'] #df_teams_tmp['code'] # Resets to 1-20 from this year onwards\n",
    "        df_teams_tmp['team_name'] = df_teams_tmp['name']\n",
    "    else:\n",
    "        df_teams = pd.read_csv(fpl_dir+'data/master_team_list.csv')\n",
    "        df_teams_tmp = df_teams[df_teams['season']==year]\n",
    "\n",
    "    # Turn to dict\n",
    "    df_teams_dict = {}\n",
    "    for team, name in zip(df_teams_tmp['team'], df_teams_tmp['team_name']):\n",
    "        df_teams_dict[team] = name\n",
    "        \n",
    "    return df_teams_dict\n"
   ]
  },
  {
   "cell_type": "code",
   "execution_count": 60,
   "id": "4c601948",
   "metadata": {},
   "outputs": [],
   "source": [
    "def get_player_positions_dict(year, fpl_dir, encoding):\n",
    "    # Get player positions (in seperate file for last years)\n",
    "    if year in ['2019-20', '2018-19','2017-18','2016-17']:\n",
    "        \n",
    "        mapping = {'1':'GKP',\n",
    "                   '2':'DEF',\n",
    "                   '3':'MID',\n",
    "                   '4':'FWD'}\n",
    "\n",
    "        # Read file\n",
    "        df_players_tmp = pd.read_csv(fpl_dir+'data/'+year+'/players_raw.csv', encoding='utf_8')\n",
    "        \n",
    "        # Turn to mapping dict (with name in correct form)\n",
    "        df_pos_dict = {}\n",
    "        if year in ['2019-20','2018-19']:\n",
    "            for first_name, second_name, p_id, element_type in zip(df_players_tmp['first_name'], \n",
    "                                                                   df_players_tmp['second_name'],\n",
    "                                                                   df_players_tmp['id'],\n",
    "                                                                   df_players_tmp['element_type']):\n",
    "                df_pos_dict[first_name+'_'+second_name+'_'+str(p_id)] = mapping[str(element_type)]\n",
    "        \n",
    "        # Slightly different name format for these earlier two years (no id)\n",
    "        else:\n",
    "            for first_name, second_name, p_id, element_type in zip(df_players_tmp['first_name'], \n",
    "                                                                   df_players_tmp['second_name'],\n",
    "                                                                   df_players_tmp['id'],\n",
    "                                                                   df_players_tmp['element_type']):\n",
    "                df_pos_dict[first_name+'_'+second_name] = mapping[str(element_type)]\n",
    "    \n",
    "    # Return null for other years\n",
    "    else:\n",
    "        df_pos_dict = None\n",
    "\n",
    "\n",
    "    return df_pos_dict\n",
    "\n",
    "\n"
   ]
  },
  {
   "cell_type": "code",
   "execution_count": 80,
   "id": "6a65c9aa",
   "metadata": {},
   "outputs": [],
   "source": [
    "def load_data(fpl_dir = '/Users/dominicbates/Documents/Github/Fantasy-Premier-League/'):\n",
    "    \n",
    "    # Set cols\n",
    "    cols = ['season','GW','name','position','opponent_name','opponent_team', 'kickoff_time', 'was_home', 'selected','selected_weight','minutes','total_points','saves','bonus','clean_sheets','goals_conceded','goals_scored','assists','red_cards','yellow_cards']\n",
    "    \n",
    "#     df_teams = pd.read_csv(fpl_dir+'data/master_team_list.csv')\n",
    "    df_all = pd.DataFrame()\n",
    "\n",
    "    # Loop through all years\n",
    "    all_years = ['2022-23', '2021-22', '2020-21','2019-20', '2018-19','2017-18','2016-17']\n",
    "    print('Loading data for years:',all_years)\n",
    "    for year in all_years:\n",
    "        print('... Processing year:',year)\n",
    "\n",
    "        # Set encoding to avoid errors\n",
    "        if year in ['2018-19', '2017-18', '2016-17']:\n",
    "            encoding = 'latin-1'\n",
    "        else:\n",
    "            encoding = 'utf_8'\n",
    "\n",
    "        # Load season data\n",
    "        df_tmp = pd.read_csv(fpl_dir+'data/'+year+'/gws/merged_gw.csv', encoding=encoding)\n",
    "        df_tmp['season'] = year\n",
    "\n",
    "        \n",
    "        \n",
    "        # Get team names\n",
    "        id_to_team = get_team_names_dict(year, fpl_dir, encoding)\n",
    "        df_tmp['opponent_name'] = [id_to_team[team] for team in df_tmp['opponent_team']]\n",
    "#         print(list(df_tmp))\n",
    "        \n",
    "        # Get positions\n",
    "        name_to_pos = get_player_positions_dict(year, fpl_dir, encoding)\n",
    "        if name_to_pos is not None:\n",
    "            df_tmp['position'] = [name_to_pos[name] if name in list(name_to_pos) else None for name in df_tmp['name']]\n",
    "        df_tmp.loc[(df_tmp['position'] == 'GK'),'position'] = 'GKP'\n",
    "        # Set selected weight\n",
    "        df_tmp['selected_weight'] = df_tmp['selected'] / df_tmp['selected'].mean()\n",
    "\n",
    "        # Get final columns set and add to dataframe\n",
    "        df_tmp = df_tmp[cols]\n",
    "        df_all = pd.concat([df_all, df_tmp])\n",
    "\n",
    "\n",
    "    # Clean up final dataframe\n",
    "    df_all = df_all.sort_values(['season','GW','opponent_name','kickoff_time','name'])\n",
    "    df_all['name_cleaned'] = [process_name(name) for name in df_all['name']]\n",
    "\n",
    "    print('\\nDropping Nulls')\n",
    "    print('... Size:',len(df_all))\n",
    "    m_nonulls = pd.notnull(df_all).all(axis=1)\n",
    "    df_all = df_all[m_nonulls].reset_index(drop=True)\n",
    "    print('... New Size:',len(df_all))    \n",
    "    print('...',(m_nonulls==0).sum(),'rows dropped')\n",
    "    \n",
    "    return df_all\n"
   ]
  },
  {
   "cell_type": "markdown",
   "id": "ed1bf18b",
   "metadata": {},
   "source": [
    "### Create training data"
   ]
  },
  {
   "cell_type": "code",
   "execution_count": 81,
   "id": "16b776fb",
   "metadata": {},
   "outputs": [
    {
     "name": "stdout",
     "output_type": "stream",
     "text": [
      "Loading data for years: ['2022-23', '2021-22', '2020-21', '2019-20', '2018-19', '2017-18', '2016-17']\n",
      "... Processing year: 2022-23\n",
      "... Processing year: 2021-22\n",
      "... Processing year: 2020-21\n",
      "... Processing year: 2019-20\n",
      "... Processing year: 2018-19\n",
      "... Processing year: 2017-18\n",
      "... Processing year: 2016-17\n",
      "\n",
      "Dropping Nulls\n",
      "... Size: 166653\n",
      "... New Size: 165873\n",
      "... 780 rows dropped\n"
     ]
    }
   ],
   "source": [
    "df_all = load_data()"
   ]
  },
  {
   "cell_type": "code",
   "execution_count": 79,
   "id": "29b00f25",
   "metadata": {},
   "outputs": [
    {
     "data": {
      "text/plain": [
       "0         1.505809\n",
       "1         1.707807\n",
       "2         0.000000\n",
       "3         0.014097\n",
       "4         0.777986\n",
       "            ...   \n",
       "165868    0.004748\n",
       "165869    0.082258\n",
       "165870    0.234069\n",
       "165871    0.215003\n",
       "165872    7.554142\n",
       "Name: selected_weight, Length: 165873, dtype: float64"
      ]
     },
     "execution_count": 79,
     "metadata": {},
     "output_type": "execute_result"
    }
   ],
   "source": [
    "df_all['selected_weight']"
   ]
  },
  {
   "cell_type": "code",
   "execution_count": 29,
   "id": "cea0a2a0",
   "metadata": {},
   "outputs": [],
   "source": [
    "bins = [[0,1], [1,2], [2,3], [3,4],  [4,5], [5,10], [10,20]]\n",
    "\n",
    "features = {\n",
    "    'total_points':{'name':'f|points|',\n",
    "              'bins':bins},\n",
    "    'minutes':{'name':'f|mins|',\n",
    "              'bins':bins},\n",
    "    'goals':{'name':'f|goals|',\n",
    "              'bins':bins},\n",
    "    'assists':{'name':'f|goals|',\n",
    "              'bins':bins},\n",
    "    'clean_sheets':{'name':'f|clean_sheets|',\n",
    "              'bins':bins},\n",
    "    'was_home':{'name':'f|home|',\n",
    "              'bins':bins},\n",
    "    'bonus':{'name':'f|bonus|',\n",
    "              'bins':bins},\n",
    "    'time_horizon':{'name':'f|time_horizon|',\n",
    "                    'bins':bins[0:5]},\n",
    "    'fixture_m1':{'name':'f|fixture_m1|',\n",
    "                    'bins':bins[0:5]},\n",
    "    'fixture_m2':{'name':'f|fixture_m2|',\n",
    "                    'bins':bins[0:5]},\n",
    "    'fixture_m3':{'name':'f|fixture_m3|',\n",
    "                    'bins':bins[0:5]},\n",
    "    'fixture_m4':{'name':'f|fixture_m4|',\n",
    "                    'bins':bins[0:5]},\n",
    "    'fixture_m5':{'name':'f|fixture_m5|',\n",
    "                    'bins':bins[0:5]}\n",
    "    # WHat about the fixture????\n",
    "}"
   ]
  },
  {
   "cell_type": "code",
   "execution_count": 79,
   "id": "cf7821de",
   "metadata": {},
   "outputs": [
    {
     "data": {
      "text/plain": [
       "[('2022-23', 25667),\n",
       " ('2021-22', 25447),\n",
       " ('2020-21', 24365),\n",
       " ('2019-20', 22560),\n",
       " ('2018-19', 18979)]"
      ]
     },
     "execution_count": 79,
     "metadata": {},
     "output_type": "execute_result"
    }
   ],
   "source": [
    "from collections import Counter\n",
    "Counter(df_all['season']).most_common()"
   ]
  },
  {
   "cell_type": "code",
   "execution_count": null,
   "id": "c513a3eb",
   "metadata": {},
   "outputs": [],
   "source": []
  },
  {
   "cell_type": "code",
   "execution_count": null,
   "id": "bde40991",
   "metadata": {},
   "outputs": [],
   "source": []
  }
 ],
 "metadata": {
  "kernelspec": {
   "display_name": "Python 3 (ipykernel)",
   "language": "python",
   "name": "python3"
  },
  "language_info": {
   "codemirror_mode": {
    "name": "ipython",
    "version": 3
   },
   "file_extension": ".py",
   "mimetype": "text/x-python",
   "name": "python",
   "nbconvert_exporter": "python",
   "pygments_lexer": "ipython3",
   "version": "3.10.4"
  }
 },
 "nbformat": 4,
 "nbformat_minor": 5
}
